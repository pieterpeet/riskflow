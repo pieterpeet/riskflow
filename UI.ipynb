{
 "cells": [
  {
   "cell_type": "code",
   "execution_count": 1,
   "id": "2104e257",
   "metadata": {},
   "outputs": [],
   "source": [
    "import os\n",
    "import sys\n",
    "import numpy as np\n",
    "import pandas as pd\n",
    "# need to at some stage make this part of the installation\n",
    "sys.path.append('/mnt/MarketData/JSON/')"
   ]
  },
  {
   "cell_type": "code",
   "execution_count": 2,
   "id": "ddf5c014",
   "metadata": {},
   "outputs": [],
   "source": [
    "# specify parameters for all parameter inputs\n",
    "os.environ['CUDA_VISIBLE_DEVICES'] = str(np.random.randint(4))"
   ]
  },
  {
   "cell_type": "code",
   "execution_count": 3,
   "id": "91c742bd",
   "metadata": {},
   "outputs": [],
   "source": [
    "import riskflow_jupyter"
   ]
  },
  {
   "cell_type": "code",
   "execution_count": 4,
   "id": "7227f9f1",
   "metadata": {},
   "outputs": [
    {
     "data": {
      "application/vnd.jupyter.widget-view+json": {
       "model_id": "81a3545f932d421e95a16970fb299d57",
       "version_major": 2,
       "version_minor": 0
      },
      "text/plain": [
       "VBox(children=(Tab(children=(VBox(children=(VBox(children=(VBox(children=(VBox(children=(Text(value='//ICMJHBM…"
      ]
     },
     "metadata": {},
     "output_type": "display_data"
    }
   ],
   "source": [
    "with open('/mnt/xva/RunDate.txt', 'rt') as f:\n",
    "    rundate = f.read()\n",
    "    \n",
    "if os.name=='nt':\n",
    "    path_transform={}\n",
    "else:\n",
    "    path_transform={\n",
    "            '//ICMJHBMVDROPUAT/AdaptiveAnalytics/Inbound/MarketData': '/mnt/MarketData',\n",
    "            '//ICMJHBMVDROPUAT/AdaptiveAnalytics/Inbound/MarketData/CVAMarketDataBackup': '/mnt/MarketData/CVAMarketDataBackup',\n",
    "            '//ICMJHBMVDROPPRD/AdaptiveAnalytics/Inbound/MarketData': '/mnt/MarketDataProd',\n",
    "            '//ICMJHBMVDROPPRD/AdaptiveAnalytics/Inbound/MarketData/CVAMarketDataBackup': '/mnt/MarketData/CVAMarketDataBackup'\n",
    "        }\n",
    "    \n",
    "wb = riskflow_jupyter.Workbench(\n",
    "    path_transform=path_transform,\n",
    "    file_transform={'MarketData.dat':'MarketData.json'},\n",
    "    default_rundate=pd.Timestamp(rundate)\n",
    ")"
   ]
  }
 ],
 "metadata": {
  "kernelspec": {
   "display_name": "Python 3 (ipykernel)",
   "language": "python",
   "name": "python3"
  },
  "language_info": {
   "codemirror_mode": {
    "name": "ipython",
    "version": 3
   },
   "file_extension": ".py",
   "mimetype": "text/x-python",
   "name": "python",
   "nbconvert_exporter": "python",
   "pygments_lexer": "ipython3",
   "version": "3.10.9"
  }
 },
 "nbformat": 4,
 "nbformat_minor": 5
}
